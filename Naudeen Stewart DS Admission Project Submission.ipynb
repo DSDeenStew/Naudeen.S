{
 "cells": [
  {
   "cell_type": "code",
   "execution_count": null,
   "id": "cf315080-56c5-477a-98e5-f64bca552ac4",
   "metadata": {},
   "outputs": [],
   "source": [
    "### Q1: What is the average number of goals for the home team?"
   ]
  },
  {
   "cell_type": "code",
   "execution_count": 19,
   "id": "831c4071-3f13-4022-b74e-30e08c6cf34b",
   "metadata": {},
   "outputs": [
    {
     "data": {
      "text/plain": [
       "1.7393136930376256"
      ]
     },
     "execution_count": 19,
     "metadata": {},
     "output_type": "execute_result"
    }
   ],
   "source": [
    "df.home_score.mean()"
   ]
  },
  {
   "cell_type": "code",
   "execution_count": null,
   "id": "0807e0a7-a61f-4ece-af56-695e652f0029",
   "metadata": {},
   "outputs": [],
   "source": [
    "### Q2: What is the average number of goals for the away team?"
   ]
  },
  {
   "cell_type": "code",
   "execution_count": 22,
   "id": "4fb43467",
   "metadata": {},
   "outputs": [
    {
     "data": {
      "text/plain": [
       "1.1782412004854905"
      ]
     },
     "execution_count": 22,
     "metadata": {},
     "output_type": "execute_result"
    }
   ],
   "source": [
    "df.away_score.mean()"
   ]
  },
  {
   "cell_type": "markdown",
   "id": "c6044d75",
   "metadata": {},
   "source": [
    "### Q3: What is the country with the highest overall home score? "
   ]
  },
  {
   "cell_type": "code",
   "execution_count": 53,
   "id": "e5d93b04",
   "metadata": {
    "scrolled": true
   },
   "outputs": [
    {
     "data": {
      "text/plain": [
       "'United States'"
      ]
     },
     "execution_count": 53,
     "metadata": {},
     "output_type": "execute_result"
    }
   ],
   "source": [
    "group_by_frame = df.groupby('country')\n",
    "group_by_frame.home_score.sum()\n",
    "country_overall_home_score = group_by_frame.home_score.sum()\n",
    "country_overall_home_score.idxmax()"
   ]
  },
  {
   "cell_type": "markdown",
   "id": "47e0f275",
   "metadata": {},
   "source": [
    "### Q4: What are the top 3 type of tournaments?"
   ]
  },
  {
   "cell_type": "code",
   "execution_count": 63,
   "id": "2d65e4e3",
   "metadata": {},
   "outputs": [
    {
     "data": {
      "text/plain": [
       "tournament\n",
       "Friendly                        17773\n",
       "FIFA World Cup qualification     8016\n",
       "UEFA Euro qualification          2815\n",
       "Name: count, dtype: int64"
      ]
     },
     "execution_count": 63,
     "metadata": {},
     "output_type": "execute_result"
    }
   ],
   "source": [
    "df.tournament.value_counts().head(3)"
   ]
  },
  {
   "cell_type": "markdown",
   "id": "46f25be1-d713-4b21-a40a-dbb233812160",
   "metadata": {},
   "source": [
    "### Q5: Which country has the highest overall FIFA World Cup goals?\n",
    "**5.1 Create a new dataframe (fifa_df) that only contains rows where the \"tournament\" column == 'FIFA World Cup'.**"
   ]
  },
  {
   "cell_type": "code",
   "execution_count": 109,
   "id": "db30530c",
   "metadata": {},
   "outputs": [],
   "source": [
    "fifa_df = df[df['tournament'] == 'FIFA World Cup qualification']"
   ]
  },
  {
   "cell_type": "markdown",
   "id": "c06b0011",
   "metadata": {},
   "source": [
    "5.2 In your new fifa_df, create a new _'total_score'_ column that sums _'home_score'_ + _'away_score'_ for each row.**"
   ]
  },
  {
   "cell_type": "code",
   "execution_count": 118,
   "id": "8dd33359",
   "metadata": {},
   "outputs": [
    {
     "name": "stderr",
     "output_type": "stream",
     "text": [
      "C:\\Users\\egagn\\AppData\\Local\\Temp\\ipykernel_14772\\4222253539.py:2: SettingWithCopyWarning: \n",
      "A value is trying to be set on a copy of a slice from a DataFrame.\n",
      "Try using .loc[row_indexer,col_indexer] = value instead\n",
      "\n",
      "See the caveats in the documentation: https://pandas.pydata.org/pandas-docs/stable/user_guide/indexing.html#returning-a-view-versus-a-copy\n",
      "  fifa_df['total_score'] = df['home_score'] + df['away_score']\n"
     ]
    }
   ],
   "source": [
    "fifa_df['total_score'] = df['home_score'] + df['away_score']"
   ]
  },
  {
   "cell_type": "markdown",
   "id": "9b7d48d2",
   "metadata": {},
   "source": [
    "**5.3 Group your data by country, then get the sum of the _'total_score'_ column. From there, you can use `idxmax()` to find the country with the highest _'total_score'_.**"
   ]
  },
  {
   "cell_type": "code",
   "execution_count": 125,
   "id": "682c7a8a",
   "metadata": {},
   "outputs": [],
   "source": [
    "group_by_country = fifa_df.groupby('country')\n",
    "group_by_country.total_score.sum()\n",
    "country_total_score = group_by_country.total_score.sum()"
   ]
  },
  {
   "cell_type": "code",
   "execution_count": 126,
   "id": "628b6683",
   "metadata": {},
   "outputs": [
    {
     "data": {
      "text/plain": [
       "'Qatar'"
      ]
     },
     "execution_count": 126,
     "metadata": {},
     "output_type": "execute_result"
    }
   ],
   "source": [
    "country_total_score.idxmax()"
   ]
  },
  {
   "cell_type": "code",
   "execution_count": null,
   "id": "7e90c1ff-31cf-4a44-af7b-9d9acf8aeca4",
   "metadata": {},
   "outputs": [],
   "source": []
  }
 ],
 "metadata": {
  "kernelspec": {
   "display_name": "Python 3 (ipykernel)",
   "language": "python",
   "name": "python3"
  },
  "language_info": {
   "codemirror_mode": {
    "name": "ipython",
    "version": 3
   },
   "file_extension": ".py",
   "mimetype": "text/x-python",
   "name": "python",
   "nbconvert_exporter": "python",
   "pygments_lexer": "ipython3",
   "version": "3.12.4"
  }
 },
 "nbformat": 4,
 "nbformat_minor": 5
}
