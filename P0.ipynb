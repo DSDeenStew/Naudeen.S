{
 "cells": [
  {
   "cell_type": "markdown",
   "id": "3aa44837-d7fc-4e4d-aa04-97e2969219af",
   "metadata": {},
   "source": [
    "### Markdown cell"
   ]
  },
  {
   "cell_type": "markdown",
   "id": "caa7f457-64c6-46bd-8bb6-1f78d6a06a82",
   "metadata": {},
   "source": [
    "# This is a Markdown cell"
   ]
  },
  {
   "cell_type": "markdown",
   "id": "3f9d420f-e0e3-4746-aa39-74f574c51630",
   "metadata": {},
   "source": [
    "# **This is bold text**"
   ]
  },
  {
   "cell_type": "markdown",
   "id": "b35354f6-fb79-4c82-9075-523337fc8599",
   "metadata": {
    "scrolled": true
   },
   "source": [
    "# *'This is italicized'*"
   ]
  },
  {
   "cell_type": "code",
   "execution_count": 46,
   "id": "f8a0dc6b-750b-4286-9c38-987390c491e5",
   "metadata": {},
   "outputs": [],
   "source": [
    "X = 5"
   ]
  },
  {
   "cell_type": "markdown",
   "id": "e5ccc1a8-e565-4162-bc22-03cb047928f0",
   "metadata": {},
   "source": [
    "# The weather is clear today. <br> hopefully it does not rain."
   ]
  },
  {
   "cell_type": "markdown",
   "id": "6791c035-9def-480e-bbb7-0a0c92c50df7",
   "metadata": {},
   "source": [
    " - apples\n",
    " - oranges\n",
    " - bananas\n",
    " - tomatoes"
   ]
  },
  {
   "cell_type": "markdown",
   "id": "f7d6b361-8e32-4253-8cc8-cd7e32c9a0da",
   "metadata": {},
   "source": [
    "# The End!"
   ]
  },
  {
   "cell_type": "markdown",
   "id": "622fc4f6-302c-4c2e-b2df-fc98bbd462aa",
   "metadata": {},
   "source": [
    "***"
   ]
  }
 ],
 "metadata": {
  "kernelspec": {
   "display_name": "Python 3 (ipykernel)",
   "language": "python",
   "name": "python3"
  },
  "language_info": {
   "codemirror_mode": {
    "name": "ipython",
    "version": 3
   },
   "file_extension": ".py",
   "mimetype": "text/x-python",
   "name": "python",
   "nbconvert_exporter": "python",
   "pygments_lexer": "ipython3",
   "version": "3.12.4"
  }
 },
 "nbformat": 4,
 "nbformat_minor": 5
}
